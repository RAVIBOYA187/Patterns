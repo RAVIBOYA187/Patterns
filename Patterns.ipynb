{
 "cells": [
  {
   "cell_type": "code",
   "execution_count": 73,
   "id": "6d4d0eda-6c2b-4547-945e-49f36d7e9104",
   "metadata": {},
   "outputs": [
    {
     "name": "stdin",
     "output_type": "stream",
     "text": [
      " 5\n"
     ]
    },
    {
     "name": "stdout",
     "output_type": "stream",
     "text": [
      "----*----\n",
      "---***----\n",
      "--*****----\n",
      "-*******----\n",
      "*********----\n"
     ]
    }
   ],
   "source": [
    "'''\n",
    "---*---\n",
    "--***--\n",
    "-*****-\n",
    "*******\n",
    "\n",
    "---1---\n",
    "--333--\n",
    "-55555-\n",
    "7777777\n",
    "\n",
    "'''\n",
    "\n",
    "\n",
    "\n",
    "\n",
    "n = int(input())\n",
    "r = 1 \n",
    "\n",
    "for i in range(n):\n",
    "    #spaces loop\n",
    "    for j in range(n-i,1,-1):\n",
    "        print('-',end='')\n",
    "\n",
    "    #starts or numbers loop\n",
    "    for k in range(r):\n",
    "        print('*',end='')\n",
    "    r = r + 2  # r += 2\n",
    "\n",
    "\n",
    "    # loop for 2nd time spaces\n",
    "    for l in range(n-1,0,-1):\n",
    "        print('-',end='')\n",
    "\n",
    "    print()\n",
    "\n",
    "\n"
   ]
  },
  {
   "cell_type": "code",
   "execution_count": 69,
   "id": "21688c44-98b0-43d9-baab-fad5eaa3958f",
   "metadata": {},
   "outputs": [
    {
     "name": "stdin",
     "output_type": "stream",
     "text": [
      " 5\n"
     ]
    },
    {
     "name": "stdout",
     "output_type": "stream",
     "text": [
      "----*----\n",
      "---***---\n",
      "--*****--\n",
      "-*******-\n",
      "*********\n"
     ]
    }
   ],
   "source": [
    "'''\n",
    "---*---\n",
    "--***--\n",
    "-*****-\n",
    "*******\n",
    "\n",
    "---1---\n",
    "--333--\n",
    "-55555-\n",
    "7777777\n",
    "\n",
    "'''\n",
    "\n",
    "\n",
    "\n",
    "\n",
    "n = int(input())\n",
    "r = 1 \n",
    "\n",
    "for i in range(n):\n",
    "    #spaces loop\n",
    "    for j in range(n-i,1,-1):\n",
    "        print('-',end='')\n",
    "\n",
    "    #starts or numbers loop\n",
    "    for k in range(r):\n",
    "        print('*',end='')\n",
    "    r = r + 2  # r += 2\n",
    "\n",
    "\n",
    "    # loop for 2nd time spaces\n",
    "    for l in range(n-i,1,-1):\n",
    "        print('-',end='')\n",
    "\n",
    "    print()\n",
    "\n",
    "\n"
   ]
  },
  {
   "cell_type": "code",
   "execution_count": 67,
   "id": "f45f8f31-b5a3-4506-a593-14bf653d8f98",
   "metadata": {},
   "outputs": [
    {
     "name": "stdin",
     "output_type": "stream",
     "text": [
      " 5\n"
     ]
    },
    {
     "name": "stdout",
     "output_type": "stream",
     "text": [
      "----1----\n",
      "---333---\n",
      "--55555--\n",
      "-7777777-\n",
      "999999999\n"
     ]
    }
   ],
   "source": [
    "'''\n",
    "---*---\n",
    "--***--\n",
    "-*****-\n",
    "*******\n",
    "\n",
    "---1---\n",
    "--333--\n",
    "-55555-\n",
    "7777777\n",
    "\n",
    "'''\n",
    "\n",
    "\n",
    "\n",
    "\n",
    "n = int(input())\n",
    "r = 1 \n",
    "\n",
    "for i in range(n):\n",
    "    #spaces loop\n",
    "    for j in range(n-i,1,-1):\n",
    "        print('-',end='')\n",
    "\n",
    "    #starts or numbers loop\n",
    "    for k in range(r):\n",
    "        print(r,end='')\n",
    "    r = r + 2 # r += 2\n",
    "\n",
    "\n",
    "    \n",
    "    # loop for 2nd time spaces\n",
    "    for l in range(n-i,1,-1):\n",
    "        print('-',end='')\n",
    "\n",
    "    print()\n",
    "\n",
    "\n"
   ]
  },
  {
   "cell_type": "code",
   "execution_count": 31,
   "id": "0787d54a-fc67-4f75-aa15-c0363a1a4710",
   "metadata": {},
   "outputs": [
    {
     "name": "stdin",
     "output_type": "stream",
     "text": [
      " 9\n"
     ]
    },
    {
     "name": "stdout",
     "output_type": "stream",
     "text": [
      "--------1--------\n",
      "-------321-------\n",
      "------54321------\n",
      "-----7654321-----\n",
      "----987654321----\n",
      "---1110987654321---\n",
      "--13121110987654321--\n",
      "-151413121110987654321-\n",
      "1716151413121110987654321\n"
     ]
    }
   ],
   "source": [
    "'''\n",
    "\n",
    "---1---\n",
    "--321--\n",
    "-54321-\n",
    "7654321\n",
    "\n",
    "'''\n",
    "\n",
    "n = int(input())\n",
    "s = 1\n",
    "\n",
    "for i in range(n):\n",
    "    for j in range(n-i,1,-1):\n",
    "        print('-',end='')\n",
    "\n",
    "    for k in range(s):\n",
    "        print(s-k,end='')\n",
    "\n",
    "    s = s + 2\n",
    "\n",
    "    for l in range(n-i,1,-1):\n",
    "        print('-',end='')\n",
    "\n",
    "    print()\n",
    "    "
   ]
  },
  {
   "cell_type": "code",
   "execution_count": 43,
   "id": "abffc99b-34b8-4312-ae86-114fb45f990d",
   "metadata": {},
   "outputs": [
    {
     "name": "stdin",
     "output_type": "stream",
     "text": [
      " 20\n"
     ]
    },
    {
     "name": "stdout",
     "output_type": "stream",
     "text": [
      "-  -  -  -  -  -  -  -  -  -  -  -  -  -  -  -  -  -  -  1  -  -  -  -  -  -  -  -  -  -  -  -  -  -  -  -  -  -  -  \n",
      "-  -  -  -  -  -  -  -  -  -  -  -  -  -  -  -  -  -  3  2  1  -  -  -  -  -  -  -  -  -  -  -  -  -  -  -  -  -  -  \n",
      "-  -  -  -  -  -  -  -  -  -  -  -  -  -  -  -  -  5  4  3  2  1  -  -  -  -  -  -  -  -  -  -  -  -  -  -  -  -  -  \n",
      "-  -  -  -  -  -  -  -  -  -  -  -  -  -  -  -  7  6  5  4  3  2  1  -  -  -  -  -  -  -  -  -  -  -  -  -  -  -  -  \n",
      "-  -  -  -  -  -  -  -  -  -  -  -  -  -  -  9  8  7  6  5  4  3  2  1  -  -  -  -  -  -  -  -  -  -  -  -  -  -  -  \n",
      "-  -  -  -  -  -  -  -  -  -  -  -  -  -  11  10  9  8  7  6  5  4  3  2  1  -  -  -  -  -  -  -  -  -  -  -  -  -  -  \n",
      "-  -  -  -  -  -  -  -  -  -  -  -  -  13  12  11  10  9  8  7  6  5  4  3  2  1  -  -  -  -  -  -  -  -  -  -  -  -  -  \n",
      "-  -  -  -  -  -  -  -  -  -  -  -  15  14  13  12  11  10  9  8  7  6  5  4  3  2  1  -  -  -  -  -  -  -  -  -  -  -  -  \n",
      "-  -  -  -  -  -  -  -  -  -  -  17  16  15  14  13  12  11  10  9  8  7  6  5  4  3  2  1  -  -  -  -  -  -  -  -  -  -  -  \n",
      "-  -  -  -  -  -  -  -  -  -  19  18  17  16  15  14  13  12  11  10  9  8  7  6  5  4  3  2  1  -  -  -  -  -  -  -  -  -  -  \n",
      "-  -  -  -  -  -  -  -  -  21  20  19  18  17  16  15  14  13  12  11  10  9  8  7  6  5  4  3  2  1  -  -  -  -  -  -  -  -  -  \n",
      "-  -  -  -  -  -  -  -  23  22  21  20  19  18  17  16  15  14  13  12  11  10  9  8  7  6  5  4  3  2  1  -  -  -  -  -  -  -  -  \n",
      "-  -  -  -  -  -  -  25  24  23  22  21  20  19  18  17  16  15  14  13  12  11  10  9  8  7  6  5  4  3  2  1  -  -  -  -  -  -  -  \n",
      "-  -  -  -  -  -  27  26  25  24  23  22  21  20  19  18  17  16  15  14  13  12  11  10  9  8  7  6  5  4  3  2  1  -  -  -  -  -  -  \n",
      "-  -  -  -  -  29  28  27  26  25  24  23  22  21  20  19  18  17  16  15  14  13  12  11  10  9  8  7  6  5  4  3  2  1  -  -  -  -  -  \n",
      "-  -  -  -  31  30  29  28  27  26  25  24  23  22  21  20  19  18  17  16  15  14  13  12  11  10  9  8  7  6  5  4  3  2  1  -  -  -  -  \n",
      "-  -  -  33  32  31  30  29  28  27  26  25  24  23  22  21  20  19  18  17  16  15  14  13  12  11  10  9  8  7  6  5  4  3  2  1  -  -  -  \n",
      "-  -  35  34  33  32  31  30  29  28  27  26  25  24  23  22  21  20  19  18  17  16  15  14  13  12  11  10  9  8  7  6  5  4  3  2  1  -  -  \n",
      "-  37  36  35  34  33  32  31  30  29  28  27  26  25  24  23  22  21  20  19  18  17  16  15  14  13  12  11  10  9  8  7  6  5  4  3  2  1  -  \n",
      "39  38  37  36  35  34  33  32  31  30  29  28  27  26  25  24  23  22  21  20  19  18  17  16  15  14  13  12  11  10  9  8  7  6  5  4  3  2  1  \n"
     ]
    }
   ],
   "source": [
    "'''\n",
    "\n",
    "---1---\n",
    "--321--\n",
    "-54321-\n",
    "7654321\n",
    "\n",
    "'''\n",
    "\n",
    "n = int(input())\n",
    "s = 1\n",
    "\n",
    "for i in range(n):\n",
    "    for j in range(n-i,1,-1):\n",
    "        print('-',end='  ')\n",
    "\n",
    "    for k in range(s):\n",
    "        print(s-k,end='  ')\n",
    "\n",
    "    s = s + 2\n",
    "\n",
    "    for l in range(n-i,1,-1):\n",
    "        print('-',end='  ')\n",
    "\n",
    "    print()\n",
    "    "
   ]
  },
  {
   "cell_type": "code",
   "execution_count": 49,
   "id": "fd488035-909d-47a8-b3be-c4923666b794",
   "metadata": {},
   "outputs": [
    {
     "name": "stdin",
     "output_type": "stream",
     "text": [
      " 5\n"
     ]
    },
    {
     "name": "stdout",
     "output_type": "stream",
     "text": [
      "-  -  -  -  1  -  -  -  -  \n",
      "-  -  -  2  2  2  -  -  -  \n",
      "-  -  3  3  3  3  3  -  -  \n",
      "-  4  4  4  4  4  4  4  -  \n",
      "5  5  5  5  5  5  5  5  5  \n"
     ]
    }
   ],
   "source": [
    "'''\n",
    "\n",
    "---1---\n",
    "--222--\n",
    "-33333-\n",
    "4444444\n",
    "'''\n",
    "\n",
    "n = int(input())\n",
    "s = 1\n",
    "\n",
    "for i in range(n):\n",
    "    for j in range(n-i,1,-1):\n",
    "        print('-',end='  ')\n",
    "\n",
    "    for k in range(s):\n",
    "        print(s-i,end='  ')\n",
    "\n",
    "    s = s + 2\n",
    "\n",
    "    for l in range(n-i,1,-1):\n",
    "        print('-',end='  ')\n",
    "\n",
    "    print()\n",
    "    "
   ]
  },
  {
   "cell_type": "code",
   "execution_count": 61,
   "id": "2c99c309-0b67-4c5a-9579-237b4b59fe7b",
   "metadata": {},
   "outputs": [
    {
     "name": "stdin",
     "output_type": "stream",
     "text": [
      " 15\n"
     ]
    },
    {
     "name": "stdout",
     "output_type": "stream",
     "text": [
      "-  -  -  -  -  -  -  -  -  -  -  -  -  -  1  -  -  -  -  -  -  -  -  -  -  -  -  -  -  \n",
      "-  -  -  -  -  -  -  -  -  -  -  -  -  2  2  2  -  -  -  -  -  -  -  -  -  -  -  -  -  \n",
      "-  -  -  -  -  -  -  -  -  -  -  -  3  3  3  3  3  -  -  -  -  -  -  -  -  -  -  -  -  \n",
      "-  -  -  -  -  -  -  -  -  -  -  4  4  4  4  4  4  4  -  -  -  -  -  -  -  -  -  -  -  \n",
      "-  -  -  -  -  -  -  -  -  -  5  5  5  5  5  5  5  5  5  -  -  -  -  -  -  -  -  -  -  \n",
      "-  -  -  -  -  -  -  -  -  6  6  6  6  6  6  6  6  6  6  6  -  -  -  -  -  -  -  -  -  \n",
      "-  -  -  -  -  -  -  -  7  7  7  7  7  7  7  7  7  7  7  7  7  -  -  -  -  -  -  -  -  \n",
      "-  -  -  -  -  -  -  8  8  8  8  8  8  8  8  8  8  8  8  8  8  8  -  -  -  -  -  -  -  \n",
      "-  -  -  -  -  -  9  9  9  9  9  9  9  9  9  9  9  9  9  9  9  9  9  -  -  -  -  -  -  \n",
      "-  -  -  -  -  10  10  10  10  10  10  10  10  10  10  10  10  10  10  10  10  10  10  10  -  -  -  -  -  \n",
      "-  -  -  -  11  11  11  11  11  11  11  11  11  11  11  11  11  11  11  11  11  11  11  11  11  -  -  -  -  \n",
      "-  -  -  12  12  12  12  12  12  12  12  12  12  12  12  12  12  12  12  12  12  12  12  12  12  12  -  -  -  \n",
      "-  -  13  13  13  13  13  13  13  13  13  13  13  13  13  13  13  13  13  13  13  13  13  13  13  13  13  -  -  \n",
      "-  14  14  14  14  14  14  14  14  14  14  14  14  14  14  14  14  14  14  14  14  14  14  14  14  14  14  14  -  \n",
      "15  15  15  15  15  15  15  15  15  15  15  15  15  15  15  15  15  15  15  15  15  15  15  15  15  15  15  15  15  \n"
     ]
    }
   ],
   "source": [
    "'''\n",
    "\n",
    "---1---\n",
    "--222--\n",
    "-33333-\n",
    "4444444\n",
    "\n",
    "'''\n",
    "\n",
    "n = int(input())\n",
    "s = 1\n",
    "\n",
    "for i in range(n):\n",
    "    for j in range(n-i,1,-1):\n",
    "        print('-',end='  ')\n",
    "\n",
    "    for k in range(s):\n",
    "        print(s-i,end='  ')\n",
    "\n",
    "    s = s + 2\n",
    "\n",
    "    for l in range(n-i,1,-1):\n",
    "        print('-',end='  ')\n",
    "\n",
    "    print()\n",
    "    "
   ]
  },
  {
   "cell_type": "code",
   "execution_count": 79,
   "id": "d80748ba-61cd-4d17-a9b8-0a4eecac75cf",
   "metadata": {},
   "outputs": [
    {
     "name": "stdin",
     "output_type": "stream",
     "text": [
      " 5\n"
     ]
    },
    {
     "name": "stdout",
     "output_type": "stream",
     "text": [
      "-  -  -  -  1  -  -  -  -  \n",
      "-  -  -  1  2  1  -  -  -  \n",
      "-  -  1  2  3  2  1  -  -  \n",
      "-  1  2  3  4  3  2  1  -  \n",
      "1  2  3  4  5  4  3  2  1  \n"
     ]
    }
   ],
   "source": [
    "'''\n",
    "\n",
    "---1---\n",
    "--121--\n",
    "-12321-\n",
    "1234321\n",
    "\n",
    "'''\n",
    "\n",
    "n = int(input())\n",
    "s = 1\n",
    "t  = 0\n",
    "\n",
    "for i in range(n):\n",
    "    for j in range(n-i,1,-1):\n",
    "        print('-',end='  ')\n",
    "\n",
    "    for k in range(s):\n",
    "        print(k+1,end='  ')\n",
    "    s = s + 1\n",
    "\n",
    "    for m in range(i):\n",
    "        print(i-m,end='  ') \n",
    "\n",
    "    for l in range(n-i,1,-1):\n",
    "        print('-',end='  ')\n",
    "\n",
    "    print()\n",
    "    "
   ]
  },
  {
   "cell_type": "code",
   "execution_count": 3,
   "id": "9eeefe76-12c0-4924-9643-c16b2d61324b",
   "metadata": {},
   "outputs": [
    {
     "name": "stdin",
     "output_type": "stream",
     "text": [
      " 5\n"
     ]
    },
    {
     "name": "stdout",
     "output_type": "stream",
     "text": [
      "-  -  -  -  0  -  -  -  -  \n",
      "-  -  -  1  0  1  -  -  -  \n",
      "-  -  2  1  0  1  2  -  -  \n",
      "-  3  2  1  0  1  2  3  -  \n",
      "4  3  2  1  0  1  2  3  4  \n"
     ]
    }
   ],
   "source": [
    "'''\n",
    "\n",
    "---0---\n",
    "--101--\n",
    "-21012-\n",
    "3210123\n",
    "\n",
    "'''\n",
    "\n",
    "n = int(input())\n",
    "s = 1\n",
    "t  = 0\n",
    "\n",
    "for i in range(n):\n",
    "    \n",
    "    for j in range(n-i,1,-1):\n",
    "        print('-',end='  ')\n",
    "\n",
    "    for k in range(s):\n",
    "        print(s - k - 1,end='  ')\n",
    "    s = s + 1\n",
    "\n",
    "    for m in range(i):\n",
    "        print(m+1,end='  ') \n",
    "\n",
    "    for l in range(n-i,1,-1):\n",
    "        print('-',end='  ')\n",
    "\n",
    "    print()\n",
    "    "
   ]
  },
  {
   "cell_type": "code",
   "execution_count": 1,
   "id": "25713e40-fda2-47f5-a12f-0995ab0ef290",
   "metadata": {},
   "outputs": [],
   "source": [
    "for i in range(0):\n",
    "    print(i)"
   ]
  },
  {
   "cell_type": "code",
   "execution_count": 7,
   "id": "22363774-736d-4e70-95ce-a525ee102e43",
   "metadata": {},
   "outputs": [
    {
     "name": "stdin",
     "output_type": "stream",
     "text": [
      " 5\n"
     ]
    },
    {
     "name": "stdout",
     "output_type": "stream",
     "text": [
      "-  -  -  -  \n",
      "-  -  -  \n",
      "-  -  \n",
      "-  \n",
      "\n"
     ]
    }
   ],
   "source": [
    "n = int(input())\n",
    "s = 1\n",
    "t  = 0\n",
    "\n",
    "for i in range(n):\n",
    "    \n",
    "    for j in range(n-i,1,-1):\n",
    "        print('-',end='  ')\n",
    "    print()"
   ]
  },
  {
   "cell_type": "code",
   "execution_count": 11,
   "id": "378ccf47-1f7d-4a60-bcbe-9a7ea13495ff",
   "metadata": {},
   "outputs": [
    {
     "name": "stdout",
     "output_type": "stream",
     "text": [
      "140721444498184\n"
     ]
    }
   ],
   "source": [
    "print(id('A'))"
   ]
  },
  {
   "cell_type": "code",
   "execution_count": 13,
   "id": "28162832-4359-46ef-9064-b2f9b15eb7f7",
   "metadata": {},
   "outputs": [
    {
     "data": {
      "text/plain": [
       "97"
      ]
     },
     "execution_count": 13,
     "metadata": {},
     "output_type": "execute_result"
    }
   ],
   "source": [
    "ord('a')"
   ]
  },
  {
   "cell_type": "code",
   "execution_count": 15,
   "id": "cdfd7b9d-6176-4610-85bf-eeb52d8e4c13",
   "metadata": {},
   "outputs": [
    {
     "data": {
      "text/plain": [
       "65"
      ]
     },
     "execution_count": 15,
     "metadata": {},
     "output_type": "execute_result"
    }
   ],
   "source": [
    "ord('A')"
   ]
  },
  {
   "cell_type": "code",
   "execution_count": 17,
   "id": "c4d57486-8d3b-4965-8e80-cdc2140fcc34",
   "metadata": {},
   "outputs": [
    {
     "ename": "NameError",
     "evalue": "name 'char' is not defined",
     "output_type": "error",
     "traceback": [
      "\u001b[1;31m---------------------------------------------------------------------------\u001b[0m",
      "\u001b[1;31mNameError\u001b[0m                                 Traceback (most recent call last)",
      "Cell \u001b[1;32mIn[17], line 1\u001b[0m\n\u001b[1;32m----> 1\u001b[0m char(\u001b[38;5;241m65\u001b[39m)\n",
      "\u001b[1;31mNameError\u001b[0m: name 'char' is not defined"
     ]
    }
   ],
   "source": [
    "char(65)"
   ]
  },
  {
   "cell_type": "code",
   "execution_count": 19,
   "id": "19d9d285-9979-4c3c-810b-797ec0aac8d9",
   "metadata": {},
   "outputs": [
    {
     "data": {
      "text/plain": [
       "'A'"
      ]
     },
     "execution_count": 19,
     "metadata": {},
     "output_type": "execute_result"
    }
   ],
   "source": [
    "chr(65)"
   ]
  },
  {
   "cell_type": "code",
   "execution_count": 23,
   "id": "ab689271-b3e2-4ce8-ba58-ae8327b98446",
   "metadata": {},
   "outputs": [
    {
     "name": "stdin",
     "output_type": "stream",
     "text": [
      " 5\n"
     ]
    },
    {
     "name": "stdout",
     "output_type": "stream",
     "text": [
      "-  -  -  -  A  -  -  -  -  \n",
      "-  -  -  A  B  A  -  -  -  \n",
      "-  -  A  B  C  B  A  -  -  \n",
      "-  A  B  C  D  C  B  A  -  \n",
      "A  B  C  D  E  D  C  B  A  \n"
     ]
    }
   ],
   "source": [
    "'''\n",
    "\n",
    "---A---\n",
    "--ABA--\n",
    "-ABCBA-\n",
    "ABCDCBA\n",
    "\n",
    "'''\n",
    "\n",
    "n = int(input())\n",
    "s = 1\n",
    "temp = 65\n",
    "\n",
    "\n",
    "for i in range(n):\n",
    "    for j in range(n-i,1,-1):\n",
    "        print('-',end='  ')\n",
    "\n",
    "    for k in range(s):\n",
    "        print(chr(temp + k),end='  ')\n",
    "        \n",
    "    s = s + 1\n",
    "\n",
    "    for m in range(i):\n",
    "        #var  = var - 1\n",
    "        print(chr(temp + i - m - 1 ),end='  ') \n",
    "\n",
    "    for l in range(n-i,1,-1):\n",
    "        print('-',end='  ')\n",
    "\n",
    "    print()\n",
    "    "
   ]
  },
  {
   "cell_type": "code",
   "execution_count": 31,
   "id": "6f80dd87-b9c0-4247-b47e-4a3a3b84e979",
   "metadata": {},
   "outputs": [
    {
     "name": "stdin",
     "output_type": "stream",
     "text": [
      " 26\n"
     ]
    },
    {
     "name": "stdout",
     "output_type": "stream",
     "text": [
      "-  -  -  -  -  -  -  -  -  -  -  -  -  -  -  -  -  -  -  -  -  -  -  -  -  A  -  -  -  -  -  -  -  -  -  -  -  -  -  -  -  -  -  -  -  -  -  -  -  -  -  \n",
      "-  -  -  -  -  -  -  -  -  -  -  -  -  -  -  -  -  -  -  -  -  -  -  -  A  B  A  -  -  -  -  -  -  -  -  -  -  -  -  -  -  -  -  -  -  -  -  -  -  -  -  \n",
      "-  -  -  -  -  -  -  -  -  -  -  -  -  -  -  -  -  -  -  -  -  -  -  A  B  C  B  A  -  -  -  -  -  -  -  -  -  -  -  -  -  -  -  -  -  -  -  -  -  -  -  \n",
      "-  -  -  -  -  -  -  -  -  -  -  -  -  -  -  -  -  -  -  -  -  -  A  B  C  D  C  B  A  -  -  -  -  -  -  -  -  -  -  -  -  -  -  -  -  -  -  -  -  -  -  \n",
      "-  -  -  -  -  -  -  -  -  -  -  -  -  -  -  -  -  -  -  -  -  A  B  C  D  E  D  C  B  A  -  -  -  -  -  -  -  -  -  -  -  -  -  -  -  -  -  -  -  -  -  \n",
      "-  -  -  -  -  -  -  -  -  -  -  -  -  -  -  -  -  -  -  -  A  B  C  D  E  F  E  D  C  B  A  -  -  -  -  -  -  -  -  -  -  -  -  -  -  -  -  -  -  -  -  \n",
      "-  -  -  -  -  -  -  -  -  -  -  -  -  -  -  -  -  -  -  A  B  C  D  E  F  G  F  E  D  C  B  A  -  -  -  -  -  -  -  -  -  -  -  -  -  -  -  -  -  -  -  \n",
      "-  -  -  -  -  -  -  -  -  -  -  -  -  -  -  -  -  -  A  B  C  D  E  F  G  H  G  F  E  D  C  B  A  -  -  -  -  -  -  -  -  -  -  -  -  -  -  -  -  -  -  \n",
      "-  -  -  -  -  -  -  -  -  -  -  -  -  -  -  -  -  A  B  C  D  E  F  G  H  I  H  G  F  E  D  C  B  A  -  -  -  -  -  -  -  -  -  -  -  -  -  -  -  -  -  \n",
      "-  -  -  -  -  -  -  -  -  -  -  -  -  -  -  -  A  B  C  D  E  F  G  H  I  J  I  H  G  F  E  D  C  B  A  -  -  -  -  -  -  -  -  -  -  -  -  -  -  -  -  \n",
      "-  -  -  -  -  -  -  -  -  -  -  -  -  -  -  A  B  C  D  E  F  G  H  I  J  K  J  I  H  G  F  E  D  C  B  A  -  -  -  -  -  -  -  -  -  -  -  -  -  -  -  \n",
      "-  -  -  -  -  -  -  -  -  -  -  -  -  -  A  B  C  D  E  F  G  H  I  J  K  L  K  J  I  H  G  F  E  D  C  B  A  -  -  -  -  -  -  -  -  -  -  -  -  -  -  \n",
      "-  -  -  -  -  -  -  -  -  -  -  -  -  A  B  C  D  E  F  G  H  I  J  K  L  M  L  K  J  I  H  G  F  E  D  C  B  A  -  -  -  -  -  -  -  -  -  -  -  -  -  \n",
      "-  -  -  -  -  -  -  -  -  -  -  -  A  B  C  D  E  F  G  H  I  J  K  L  M  N  M  L  K  J  I  H  G  F  E  D  C  B  A  -  -  -  -  -  -  -  -  -  -  -  -  \n",
      "-  -  -  -  -  -  -  -  -  -  -  A  B  C  D  E  F  G  H  I  J  K  L  M  N  O  N  M  L  K  J  I  H  G  F  E  D  C  B  A  -  -  -  -  -  -  -  -  -  -  -  \n",
      "-  -  -  -  -  -  -  -  -  -  A  B  C  D  E  F  G  H  I  J  K  L  M  N  O  P  O  N  M  L  K  J  I  H  G  F  E  D  C  B  A  -  -  -  -  -  -  -  -  -  -  \n",
      "-  -  -  -  -  -  -  -  -  A  B  C  D  E  F  G  H  I  J  K  L  M  N  O  P  Q  P  O  N  M  L  K  J  I  H  G  F  E  D  C  B  A  -  -  -  -  -  -  -  -  -  \n",
      "-  -  -  -  -  -  -  -  A  B  C  D  E  F  G  H  I  J  K  L  M  N  O  P  Q  R  Q  P  O  N  M  L  K  J  I  H  G  F  E  D  C  B  A  -  -  -  -  -  -  -  -  \n",
      "-  -  -  -  -  -  -  A  B  C  D  E  F  G  H  I  J  K  L  M  N  O  P  Q  R  S  R  Q  P  O  N  M  L  K  J  I  H  G  F  E  D  C  B  A  -  -  -  -  -  -  -  \n",
      "-  -  -  -  -  -  A  B  C  D  E  F  G  H  I  J  K  L  M  N  O  P  Q  R  S  T  S  R  Q  P  O  N  M  L  K  J  I  H  G  F  E  D  C  B  A  -  -  -  -  -  -  \n",
      "-  -  -  -  -  A  B  C  D  E  F  G  H  I  J  K  L  M  N  O  P  Q  R  S  T  U  T  S  R  Q  P  O  N  M  L  K  J  I  H  G  F  E  D  C  B  A  -  -  -  -  -  \n",
      "-  -  -  -  A  B  C  D  E  F  G  H  I  J  K  L  M  N  O  P  Q  R  S  T  U  V  U  T  S  R  Q  P  O  N  M  L  K  J  I  H  G  F  E  D  C  B  A  -  -  -  -  \n",
      "-  -  -  A  B  C  D  E  F  G  H  I  J  K  L  M  N  O  P  Q  R  S  T  U  V  W  V  U  T  S  R  Q  P  O  N  M  L  K  J  I  H  G  F  E  D  C  B  A  -  -  -  \n",
      "-  -  A  B  C  D  E  F  G  H  I  J  K  L  M  N  O  P  Q  R  S  T  U  V  W  X  W  V  U  T  S  R  Q  P  O  N  M  L  K  J  I  H  G  F  E  D  C  B  A  -  -  \n",
      "-  A  B  C  D  E  F  G  H  I  J  K  L  M  N  O  P  Q  R  S  T  U  V  W  X  Y  X  W  V  U  T  S  R  Q  P  O  N  M  L  K  J  I  H  G  F  E  D  C  B  A  -  \n",
      "A  B  C  D  E  F  G  H  I  J  K  L  M  N  O  P  Q  R  S  T  U  V  W  X  Y  Z  Y  X  W  V  U  T  S  R  Q  P  O  N  M  L  K  J  I  H  G  F  E  D  C  B  A  \n"
     ]
    }
   ],
   "source": [
    "'''\n",
    "\n",
    "---A---\n",
    "--ABA--\n",
    "-ABCBA-\n",
    "ABCDCBA\n",
    "\n",
    "'''\n",
    "\n",
    "n = int(input())\n",
    "s = 1\n",
    "temp = 65\n",
    "\n",
    "\n",
    "for i in range(n):\n",
    "    for j in range(n-i,1,-1):\n",
    "        print('-',end='  ')\n",
    "\n",
    "    for k in range(s):\n",
    "        print(chr(temp + k),end='  ')\n",
    "        \n",
    "    s = s + 1\n",
    "\n",
    "    for m in range(i):\n",
    "        #var  = var - 1\n",
    "        print(chr(temp + i - m - 1 ),end='  ') \n",
    "\n",
    "    for l in range(n-i,1,-1):\n",
    "        print('-',end='  ')\n",
    "\n",
    "    print()\n",
    "    "
   ]
  },
  {
   "cell_type": "code",
   "execution_count": 37,
   "id": "a57cd4e0-55d4-4d5d-9501-28800e2d63c0",
   "metadata": {},
   "outputs": [
    {
     "name": "stdin",
     "output_type": "stream",
     "text": [
      " 22\n"
     ]
    },
    {
     "name": "stdout",
     "output_type": "stream",
     "text": [
      "-  -  -  -  -  -  -  -  -  -  -  -  -  -  -  -  -  -  -  -  -  A  -  -  -  -  -  -  -  -  -  -  -  -  -  -  -  -  -  -  -  -  -  \n",
      "-  -  -  -  -  -  -  -  -  -  -  -  -  -  -  -  -  -  -  -  B  B  B  -  -  -  -  -  -  -  -  -  -  -  -  -  -  -  -  -  -  -  -  \n",
      "-  -  -  -  -  -  -  -  -  -  -  -  -  -  -  -  -  -  -  C  C  C  C  C  -  -  -  -  -  -  -  -  -  -  -  -  -  -  -  -  -  -  -  \n",
      "-  -  -  -  -  -  -  -  -  -  -  -  -  -  -  -  -  -  D  D  D  D  D  D  D  -  -  -  -  -  -  -  -  -  -  -  -  -  -  -  -  -  -  \n",
      "-  -  -  -  -  -  -  -  -  -  -  -  -  -  -  -  -  E  E  E  E  E  E  E  E  E  -  -  -  -  -  -  -  -  -  -  -  -  -  -  -  -  -  \n",
      "-  -  -  -  -  -  -  -  -  -  -  -  -  -  -  -  F  F  F  F  F  F  F  F  F  F  F  -  -  -  -  -  -  -  -  -  -  -  -  -  -  -  -  \n",
      "-  -  -  -  -  -  -  -  -  -  -  -  -  -  -  G  G  G  G  G  G  G  G  G  G  G  G  G  -  -  -  -  -  -  -  -  -  -  -  -  -  -  -  \n",
      "-  -  -  -  -  -  -  -  -  -  -  -  -  -  H  H  H  H  H  H  H  H  H  H  H  H  H  H  H  -  -  -  -  -  -  -  -  -  -  -  -  -  -  \n",
      "-  -  -  -  -  -  -  -  -  -  -  -  -  I  I  I  I  I  I  I  I  I  I  I  I  I  I  I  I  I  -  -  -  -  -  -  -  -  -  -  -  -  -  \n",
      "-  -  -  -  -  -  -  -  -  -  -  -  J  J  J  J  J  J  J  J  J  J  J  J  J  J  J  J  J  J  J  -  -  -  -  -  -  -  -  -  -  -  -  \n",
      "-  -  -  -  -  -  -  -  -  -  -  K  K  K  K  K  K  K  K  K  K  K  K  K  K  K  K  K  K  K  K  K  -  -  -  -  -  -  -  -  -  -  -  \n",
      "-  -  -  -  -  -  -  -  -  -  L  L  L  L  L  L  L  L  L  L  L  L  L  L  L  L  L  L  L  L  L  L  L  -  -  -  -  -  -  -  -  -  -  \n",
      "-  -  -  -  -  -  -  -  -  M  M  M  M  M  M  M  M  M  M  M  M  M  M  M  M  M  M  M  M  M  M  M  M  M  -  -  -  -  -  -  -  -  -  \n",
      "-  -  -  -  -  -  -  -  N  N  N  N  N  N  N  N  N  N  N  N  N  N  N  N  N  N  N  N  N  N  N  N  N  N  N  -  -  -  -  -  -  -  -  \n",
      "-  -  -  -  -  -  -  O  O  O  O  O  O  O  O  O  O  O  O  O  O  O  O  O  O  O  O  O  O  O  O  O  O  O  O  O  -  -  -  -  -  -  -  \n",
      "-  -  -  -  -  -  P  P  P  P  P  P  P  P  P  P  P  P  P  P  P  P  P  P  P  P  P  P  P  P  P  P  P  P  P  P  P  -  -  -  -  -  -  \n",
      "-  -  -  -  -  Q  Q  Q  Q  Q  Q  Q  Q  Q  Q  Q  Q  Q  Q  Q  Q  Q  Q  Q  Q  Q  Q  Q  Q  Q  Q  Q  Q  Q  Q  Q  Q  Q  -  -  -  -  -  \n",
      "-  -  -  -  R  R  R  R  R  R  R  R  R  R  R  R  R  R  R  R  R  R  R  R  R  R  R  R  R  R  R  R  R  R  R  R  R  R  R  -  -  -  -  \n",
      "-  -  -  S  S  S  S  S  S  S  S  S  S  S  S  S  S  S  S  S  S  S  S  S  S  S  S  S  S  S  S  S  S  S  S  S  S  S  S  S  -  -  -  \n",
      "-  -  T  T  T  T  T  T  T  T  T  T  T  T  T  T  T  T  T  T  T  T  T  T  T  T  T  T  T  T  T  T  T  T  T  T  T  T  T  T  T  -  -  \n",
      "-  U  U  U  U  U  U  U  U  U  U  U  U  U  U  U  U  U  U  U  U  U  U  U  U  U  U  U  U  U  U  U  U  U  U  U  U  U  U  U  U  U  -  \n",
      "V  V  V  V  V  V  V  V  V  V  V  V  V  V  V  V  V  V  V  V  V  V  V  V  V  V  V  V  V  V  V  V  V  V  V  V  V  V  V  V  V  V  V  \n"
     ]
    }
   ],
   "source": [
    "'''\n",
    "\n",
    "---A---\n",
    "--BBB--\n",
    "-CCCCC-\n",
    "DDDDDDD\n",
    "\n",
    "'''\n",
    "\n",
    "n = int(input())\n",
    "s = 1\n",
    "temp = 65\n",
    "\n",
    "\n",
    "for i in range(n):\n",
    "    for j in range(n-i,1,-1):\n",
    "        print('-',end='  ')\n",
    "\n",
    "    for k in range(s):\n",
    "        print(chr(temp + i),end='  ')\n",
    "        \n",
    "    s = s + 2\n",
    "\n",
    "    '''for m in range(i):\n",
    "        #var  = var - 1\n",
    "        print(chr(temp + i - m - 1 ),end='  ')\n",
    "\n",
    "        '''\n",
    "\n",
    "    for l in range(n-i,1,-1):\n",
    "        print('-',end='  ')\n",
    "\n",
    "    print()\n",
    "    "
   ]
  },
  {
   "cell_type": "code",
   "execution_count": 62,
   "id": "d57ef00c-cf99-464d-b83a-1f6f1c203521",
   "metadata": {},
   "outputs": [
    {
     "name": "stdin",
     "output_type": "stream",
     "text": [
      " 5\n"
     ]
    },
    {
     "name": "stdout",
     "output_type": "stream",
     "text": [
      "----*---- ----*----\n",
      "---***--- ---***---\n",
      "--*****-- --*****--\n",
      "-*******- -*******-\n",
      "********* *********\n"
     ]
    }
   ],
   "source": [
    "'''\n",
    "---*--- ---*---\n",
    "--***-- --***--\n",
    "-*****- -*****-\n",
    "******* *******\n",
    "\n",
    "---1---\n",
    "--333--\n",
    "-55555-\n",
    "7777777\n",
    "\n",
    "'''\n",
    "\n",
    "\n",
    "\n",
    "\n",
    "n = int(input())\n",
    "r = 1 \n",
    "s = 1\n",
    "\n",
    "for i in range(n):\n",
    "    #spaces loop\n",
    "    for j in range(n-i,1,-1):\n",
    "        print('-',end='')\n",
    "\n",
    "    #starts or numbers loop\n",
    "    for k in range(r):\n",
    "        print('*',end='')\n",
    "    r = r + 2  # r += 2\n",
    "\n",
    "    \n",
    "    # loop for 2nd time spaces\n",
    "    for l in range(n-i,1,-1):\n",
    "        print('-',end='')\n",
    "\n",
    "    print(' ',end= '')\n",
    "\n",
    "    for j in range(n-i,1,-1):\n",
    "        print('-',end='')\n",
    "\n",
    "    #starts or numbers loop\n",
    "    for k in range(s):\n",
    "        print('*',end='')\n",
    "    s = s + 2  # r += 2\n",
    "\n",
    "\n",
    "    # loop for 2nd time spaces\n",
    "    for l in range(n-i,1,-1):\n",
    "        print('-',end='')\n",
    "\n",
    "    print()\n",
    "\n",
    "\n"
   ]
  },
  {
   "cell_type": "code",
   "execution_count": 64,
   "id": "f96822a8-13eb-45b8-86c0-7657b04f2a8d",
   "metadata": {},
   "outputs": [
    {
     "name": "stdin",
     "output_type": "stream",
     "text": [
      " 5\n"
     ]
    },
    {
     "name": "stdout",
     "output_type": "stream",
     "text": [
      "    *         *    \n",
      "   ***       ***   \n",
      "  *****     *****  \n",
      " *******   ******* \n",
      "********* *********\n"
     ]
    }
   ],
   "source": [
    "'''\n",
    "---*--- ---*---\n",
    "--***-- --***--\n",
    "-*****- -*****-\n",
    "******* *******\n",
    "\n",
    "---1---\n",
    "--333--\n",
    "-55555-\n",
    "7777777\n",
    "\n",
    "'''\n",
    "\n",
    "\n",
    "\n",
    "\n",
    "n = int(input())\n",
    "r = 1 \n",
    "s = 1\n",
    "\n",
    "for i in range(n):\n",
    "    #spaces loop\n",
    "    for j in range(n-i,1,-1):\n",
    "        print(' ',end='')\n",
    "\n",
    "    #starts or numbers loop\n",
    "    for k in range(r):\n",
    "        print('*',end='')\n",
    "    r = r + 2  # r += 2\n",
    "\n",
    "    \n",
    "    # loop for 2nd time spaces\n",
    "    for l in range(n-i,1,-1):\n",
    "        print(' ',end='')\n",
    "\n",
    "    print(' ',end= '')\n",
    "\n",
    "    for j in range(n-i,1,-1):\n",
    "        print(' ',end='')\n",
    "\n",
    "    #starts or numbers loop\n",
    "    for k in range(s):\n",
    "        print('*',end='')\n",
    "    s = s + 2  # r += 2\n",
    "\n",
    "\n",
    "    # loop for 2nd time spaces\n",
    "    for l in range(n-i,1,-1):\n",
    "        print(' ',end='')\n",
    "\n",
    "    print()\n",
    "\n",
    "\n"
   ]
  },
  {
   "cell_type": "code",
   "execution_count": 95,
   "id": "6c89d018-d114-4a8e-a9fc-472d4abb119c",
   "metadata": {},
   "outputs": [
    {
     "name": "stdin",
     "output_type": "stream",
     "text": [
      " 5\n"
     ]
    },
    {
     "name": "stdout",
     "output_type": "stream",
     "text": [
      "----*---- ----*----\n",
      "---***--- ---***---\n",
      "--*****-- --*****--\n",
      "-*******- -*******-\n",
      "********* *********\n",
      "-*********- -*********-\n",
      "--*******-- --*******--\n",
      "---*****--- ---*****---\n",
      "----***---- ----***----\n",
      "-----*----- -----*-----\n"
     ]
    }
   ],
   "source": [
    "'''\n",
    "---*--- ---*---\n",
    "--***-- --***--\n",
    "-*****- -*****-\n",
    "******* *******\n",
    "-*****- -*****-\n",
    "--***-- --***--\n",
    "---*--- ---*---\n",
    "\n",
    "'''\n",
    "\n",
    "\n",
    "\n",
    "\n",
    "n = int(input())\n",
    "r = 1 \n",
    "s = 1\n",
    "t = 1\n",
    "u = 1\n",
    "\n",
    "for i in range(n):\n",
    "    #spaces loop\n",
    "    for j in range(n-i,1,-1):\n",
    "        print('-',end='')\n",
    "\n",
    "    #starts or numbers loop\n",
    "    for k in range(r):\n",
    "        print('*',end='')\n",
    "    r = r + 2  # r += 2\n",
    "\n",
    "    \n",
    "    # loop for 2nd time spaces\n",
    "    for l in range(n-i,1,-1):\n",
    "        print('-',end='')\n",
    "\n",
    "    print(' ',end= '')\n",
    "    \n",
    "########################################################\n",
    "    ############################################\n",
    "    \n",
    "    for j in range(n-i,1,-1):\n",
    "        print('-',end='')\n",
    "\n",
    "    #starts or numbers loop\n",
    "    for k in range(s):\n",
    "        print('*',end='')\n",
    "    s = s + 2  # r += 2\n",
    "\n",
    "\n",
    "    # loop for 2nd time spaces\n",
    "    for l in range(n-i,1,-1):\n",
    "        print('-',end='')\n",
    "\n",
    "    print()\n",
    "##########################################################################\n",
    "##########################################################################\n",
    "#########################################################################\n",
    "\n",
    "for i in range(n):\n",
    "    for j in range(t):\n",
    "        print('-',end='')\n",
    "    t = t + 1\n",
    "        \n",
    "    r = r - 2\n",
    "    for k in range(r):\n",
    "        print('*',end='')\n",
    "\n",
    "    for l in range(i+1):\n",
    "        print('-',end='')\n",
    "\n",
    "\n",
    "    print(' ',end='')\n",
    "\n",
    "    ###########################################################\n",
    "    ################################\n",
    "\n",
    "    for j in range(u):\n",
    "        print('-',end='')\n",
    "    u = u + 1\n",
    "    \n",
    "   \n",
    "    for k in range(r):\n",
    "        print('*',end='')\n",
    "\n",
    "    for l in range(i+1):\n",
    "        print('-',end='')\n",
    "\n",
    "    print()\n",
    "    \n"
   ]
  },
  {
   "cell_type": "code",
   "execution_count": 74,
   "id": "d258099d-1392-429a-b0f2-b81ba37a5861",
   "metadata": {},
   "outputs": [
    {
     "name": "stdout",
     "output_type": "stream",
     "text": [
      "01234567\n",
      "01234567\n",
      "01234567\n",
      "01234567\n"
     ]
    }
   ],
   "source": [
    "for i in range(4):\n",
    "    for i in range(8):\n",
    "        print(i,end=\"\")\n",
    "\n",
    "    print()"
   ]
  },
  {
   "cell_type": "code",
   "execution_count": null,
   "id": "61a70dac-fc92-49eb-b0a9-bd4b3d6f0e40",
   "metadata": {},
   "outputs": [],
   "source": []
  }
 ],
 "metadata": {
  "kernelspec": {
   "display_name": "Python 3 (ipykernel)",
   "language": "python",
   "name": "python3"
  },
  "language_info": {
   "codemirror_mode": {
    "name": "ipython",
    "version": 3
   },
   "file_extension": ".py",
   "mimetype": "text/x-python",
   "name": "python",
   "nbconvert_exporter": "python",
   "pygments_lexer": "ipython3",
   "version": "3.12.4"
  }
 },
 "nbformat": 4,
 "nbformat_minor": 5
}
