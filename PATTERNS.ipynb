{
 "cells": [
  {
   "cell_type": "code",
   "execution_count": 19,
   "id": "6d4d0eda-6c2b-4547-945e-49f36d7e9104",
   "metadata": {},
   "outputs": [
    {
     "name": "stdin",
     "output_type": "stream",
     "text": [
      " 5\n"
     ]
    },
    {
     "name": "stdout",
     "output_type": "stream",
     "text": [
      "----*----\n",
      "---***---\n",
      "--*****--\n",
      "-*******-\n",
      "*********\n"
     ]
    }
   ],
   "source": [
    "'''\n",
    "        ----*----\n",
    "        ---***---\n",
    "        --*****--\n",
    "        -*******-\n",
    "        *********\n",
    "        \n",
    "\n",
    "'''\n",
    "\n",
    "\n",
    "\n",
    "\n",
    "n = int(input())\n",
    "r = 1 \n",
    "\n",
    "for i in range(n):\n",
    "    #spaces loop\n",
    "    for j in range(n-i,1,-1):\n",
    "        print('-',end='')\n",
    "\n",
    "    #starts or numbers loop\n",
    "    for k in range(r):\n",
    "        print('*',end='')\n",
    "    r = r + 2  # r += 2\n",
    "\n",
    "\n",
    "    # loop for 2nd time spaces\n",
    "    for l in range(n-i,1,-1):\n",
    "        print('-',end='')\n",
    "\n",
    "    print()\n",
    "\n",
    "\n"
   ]
  },
  {
   "cell_type": "code",
   "execution_count": 21,
   "id": "21688c44-98b0-43d9-baab-fad5eaa3958f",
   "metadata": {},
   "outputs": [
    {
     "name": "stdin",
     "output_type": "stream",
     "text": [
      " 10\n"
     ]
    },
    {
     "name": "stdout",
     "output_type": "stream",
     "text": [
      "---------*---------\n",
      "--------***--------\n",
      "-------*****-------\n",
      "------*******------\n",
      "-----*********-----\n",
      "----***********----\n",
      "---*************---\n",
      "--***************--\n",
      "-*****************-\n",
      "*******************\n"
     ]
    }
   ],
   "source": [
    "'''\n",
    "            ---------*---------\n",
    "            --------***--------\n",
    "            -------*****-------\n",
    "            ------*******------\n",
    "            -----*********-----\n",
    "            ----***********----\n",
    "            ---*************---\n",
    "            --***************--\n",
    "            -*****************-\n",
    "            *******************\n",
    "\n",
    "'''\n",
    "\n",
    "\n",
    "\n",
    "\n",
    "n = int(input())\n",
    "r = 1 \n",
    "\n",
    "for i in range(n):\n",
    "    #spaces loop\n",
    "    for j in range(n-i,1,-1):\n",
    "        print('-',end='')\n",
    "\n",
    "    #starts or numbers loop\n",
    "    for k in range(r):\n",
    "        print('*',end='')\n",
    "    r = r + 2  # r += 2\n",
    "\n",
    "\n",
    "    # loop for 2nd time spaces\n",
    "    for l in range(n-i,1,-1):\n",
    "        print('-',end='')\n",
    "\n",
    "    print()\n",
    "\n",
    "\n"
   ]
  },
  {
   "cell_type": "code",
   "execution_count": 29,
   "id": "f45f8f31-b5a3-4506-a593-14bf653d8f98",
   "metadata": {},
   "outputs": [
    {
     "name": "stdin",
     "output_type": "stream",
     "text": [
      " 5\n"
     ]
    },
    {
     "name": "stdout",
     "output_type": "stream",
     "text": [
      "----1----\n",
      "---333---\n",
      "--55555--\n",
      "-7777777-\n",
      "999999999\n"
     ]
    }
   ],
   "source": [
    "'''\n",
    "        ----1----\n",
    "        ---333---\n",
    "        --55555--\n",
    "        -7777777-\n",
    "        999999999\n",
    "\n",
    "'''\n",
    "\n",
    "\n",
    "\n",
    "\n",
    "n = int(input())\n",
    "r = 1 \n",
    "\n",
    "for i in range(n):\n",
    "    #spaces loop\n",
    "    for j in range(n-i,1,-1):\n",
    "        print('-',end='')\n",
    "\n",
    "    #starts or numbers loop\n",
    "    for k in range(r):\n",
    "        print(r,end='')\n",
    "    r = r + 2 # r += 2\n",
    "\n",
    "\n",
    "    \n",
    "    # loop for 2nd time spaces\n",
    "    for l in range(n-i,1,-1):\n",
    "        print('-',end='')\n",
    "\n",
    "    print()\n",
    "\n",
    "\n"
   ]
  },
  {
   "cell_type": "code",
   "execution_count": 37,
   "id": "0787d54a-fc67-4f75-aa15-c0363a1a4710",
   "metadata": {},
   "outputs": [
    {
     "name": "stdin",
     "output_type": "stream",
     "text": [
      " 5\n"
     ]
    },
    {
     "name": "stdout",
     "output_type": "stream",
     "text": [
      "----1----\n",
      "---321---\n",
      "--54321--\n",
      "-7654321-\n",
      "987654321\n"
     ]
    }
   ],
   "source": [
    "'''\n",
    "\n",
    "        ----1----\n",
    "        ---321---\n",
    "        --54321--\n",
    "        -7654321-\n",
    "        987654321\n",
    "\n",
    "'''\n",
    "\n",
    "n = int(input())\n",
    "s = 1\n",
    "\n",
    "for i in range(n):\n",
    "    for j in range(n-i,1,-1):\n",
    "        print('-',end='')\n",
    "\n",
    "    for k in range(s):\n",
    "        print(s-k,end='')\n",
    "\n",
    "    s = s + 2\n",
    "\n",
    "    for l in range(n-i,1,-1):\n",
    "        print('-',end='')\n",
    "\n",
    "    print()\n",
    "    "
   ]
  },
  {
   "cell_type": "code",
   "execution_count": 39,
   "id": "d6e16f57-370d-42e9-8b6b-b803e6d2ef01",
   "metadata": {},
   "outputs": [
    {
     "data": {
      "text/plain": [
       "65"
      ]
     },
     "execution_count": 39,
     "metadata": {},
     "output_type": "execute_result"
    }
   ],
   "source": [
    "ord('A')"
   ]
  },
  {
   "cell_type": "code",
   "execution_count": 13,
   "id": "abffc99b-34b8-4312-ae86-114fb45f990d",
   "metadata": {},
   "outputs": [
    {
     "name": "stdin",
     "output_type": "stream",
     "text": [
      " 6\n"
     ]
    },
    {
     "name": "stdout",
     "output_type": "stream",
     "text": [
      "-  -  -  -  -  1  -  -  -  -  -  \n",
      "-  -  -  -  3  2  1  -  -  -  -  \n",
      "-  -  -  5  4  3  2  1  -  -  -  \n",
      "-  -  7  6  5  4  3  2  1  -  -  \n",
      "-  9  8  7  6  5  4  3  2  1  -  \n",
      "11  10  9  8  7  6  5  4  3  2  1  \n"
     ]
    }
   ],
   "source": [
    "'''\n",
    "\n",
    "-  -  -  -  -  -  1  -  -  -  -  -  -  \n",
    "-  -  -  -  -  3  2  1  -  -  -  -  -  \n",
    "-  -  -  -  5  4  3  2  1  -  -  -  -  \n",
    "-  -  -  7  6  5  4  3  2  1  -  -  -  \n",
    "-  -  9  8  7  6  5  4  3  2  1  -  - \n",
    "\n",
    "\n",
    "'''\n",
    "\n",
    "n = int(input())\n",
    "s = 1\n",
    "\n",
    "for i in range(n):\n",
    "    for j in range(n-i,1,-1):\n",
    "        print('-',end='  ')\n",
    "\n",
    "    for k in range(s):\n",
    "        print(s-k,end='  ')\n",
    "\n",
    "    s = s + 2\n",
    "\n",
    "    for l in range(n-i,1,-1):\n",
    "        print('-',end='  ')\n",
    "\n",
    "    print()\n",
    "    "
   ]
  },
  {
   "cell_type": "code",
   "execution_count": 47,
   "id": "fd488035-909d-47a8-b3be-c4923666b794",
   "metadata": {},
   "outputs": [
    {
     "name": "stdin",
     "output_type": "stream",
     "text": [
      " 9\n"
     ]
    },
    {
     "name": "stdout",
     "output_type": "stream",
     "text": [
      "-  -  -  -  -  -  -  -  1  -  -  -  -  -  -  -  -  \n",
      "-  -  -  -  -  -  -  2  2  2  -  -  -  -  -  -  -  \n",
      "-  -  -  -  -  -  3  3  3  3  3  -  -  -  -  -  -  \n",
      "-  -  -  -  -  4  4  4  4  4  4  4  -  -  -  -  -  \n",
      "-  -  -  -  5  5  5  5  5  5  5  5  5  -  -  -  -  \n",
      "-  -  -  6  6  6  6  6  6  6  6  6  6  6  -  -  -  \n",
      "-  -  7  7  7  7  7  7  7  7  7  7  7  7  7  -  -  \n",
      "-  8  8  8  8  8  8  8  8  8  8  8  8  8  8  8  -  \n",
      "9  9  9  9  9  9  9  9  9  9  9  9  9  9  9  9  9  \n"
     ]
    }
   ],
   "source": [
    "'''\n",
    "\n",
    "            -  -  -  -  -  -  -  -  1  -  -  -  -  -  -  -  -  \n",
    "            -  -  -  -  -  -  -  2  2  2  -  -  -  -  -  -  -  \n",
    "            -  -  -  -  -  -  3  3  3  3  3  -  -  -  -  -  -  \n",
    "            -  -  -  -  -  4  4  4  4  4  4  4  -  -  -  -  -  \n",
    "            -  -  -  -  5  5  5  5  5  5  5  5  5  -  -  -  -  \n",
    "            -  -  -  6  6  6  6  6  6  6  6  6  6  6  -  -  -  \n",
    "            -  -  7  7  7  7  7  7  7  7  7  7  7  7  7  -  -  \n",
    "            -  8  8  8  8  8  8  8  8  8  8  8  8  8  8  8  -  \n",
    "            9  9  9  9  9  9  9  9  9  9  9  9  9  9  9  9  9  \n",
    "\n",
    "'''\n",
    "\n",
    "n = int(input())\n",
    "s = 1\n",
    "\n",
    "for i in range(n):\n",
    "    for j in range(n-i,1,-1):\n",
    "        print('-',end='  ')\n",
    "\n",
    "    for k in range(s):\n",
    "        print(s-i,end='  ')\n",
    "\n",
    "    s = s + 2\n",
    "\n",
    "    for l in range(n-i,1,-1):\n",
    "        print('-',end='  ')\n",
    "\n",
    "    print()\n",
    "    "
   ]
  },
  {
   "cell_type": "code",
   "execution_count": null,
   "id": "66b32e44-ee57-41e9-b4b2-f6eef05a5c1c",
   "metadata": {},
   "outputs": [],
   "source": []
  },
  {
   "cell_type": "code",
   "execution_count": null,
   "id": "ac90cc0e-6b57-413d-99a1-147cd25973ed",
   "metadata": {},
   "outputs": [],
   "source": []
  },
  {
   "cell_type": "code",
   "execution_count": 51,
   "id": "d80748ba-61cd-4d17-a9b8-0a4eecac75cf",
   "metadata": {},
   "outputs": [
    {
     "name": "stdin",
     "output_type": "stream",
     "text": [
      " 6\n"
     ]
    },
    {
     "name": "stdout",
     "output_type": "stream",
     "text": [
      "-  -  -  -  -  1  -  -  -  -  -  \n",
      "-  -  -  -  1  2  1  -  -  -  -  \n",
      "-  -  -  1  2  3  2  1  -  -  -  \n",
      "-  -  1  2  3  4  3  2  1  -  -  \n",
      "-  1  2  3  4  5  4  3  2  1  -  \n",
      "1  2  3  4  5  6  5  4  3  2  1  \n"
     ]
    }
   ],
   "source": [
    "'''\n",
    "\n",
    "            -  -  -  -  -  1  -  -  -  -  -  \n",
    "            -  -  -  -  1  2  1  -  -  -  -  \n",
    "            -  -  -  1  2  3  2  1  -  -  -  \n",
    "            -  -  1  2  3  4  3  2  1  -  -  \n",
    "            -  1  2  3  4  5  4  3  2  1  -  \n",
    "            1  2  3  4  5  6  5  4  3  2  1  \n",
    "\n",
    "'''\n",
    "\n",
    "n = int(input())\n",
    "s = 1\n",
    "t  = 0\n",
    "\n",
    "for i in range(n):\n",
    "    for j in range(n-i,1,-1):\n",
    "        print('-',end='  ')\n",
    "\n",
    "    for k in range(s):\n",
    "        print(k+1,end='  ')\n",
    "    s = s + 1\n",
    "\n",
    "    for m in range(i):\n",
    "        print(i-m,end='  ') \n",
    "\n",
    "    for l in range(n-i,1,-1):\n",
    "        print('-',end='  ')\n",
    "\n",
    "    print()\n",
    "    "
   ]
  },
  {
   "cell_type": "code",
   "execution_count": 61,
   "id": "ba003a07-7d55-43d5-861d-9b678104f3a1",
   "metadata": {},
   "outputs": [
    {
     "name": "stdin",
     "output_type": "stream",
     "text": [
      " 6\n"
     ]
    },
    {
     "name": "stdout",
     "output_type": "stream",
     "text": [
      "1\n",
      "121\n",
      "12321\n",
      "1234321\n",
      "123454321\n",
      "12345654321\n"
     ]
    }
   ],
   "source": [
    "'''\n",
    "\n",
    "        1\n",
    "        121\n",
    "        12321\n",
    "        1234321\n",
    "        123454321\n",
    "\n",
    "write a code in 2 lines and use only 1 for loop...\n",
    "'''\n",
    "\n",
    "\n",
    "\n",
    "for i in range(int(input())):\n",
    "    print((pow(10,i+1)//9)**2)"
   ]
  },
  {
   "cell_type": "code",
   "execution_count": 3,
   "id": "9eeefe76-12c0-4924-9643-c16b2d61324b",
   "metadata": {},
   "outputs": [
    {
     "name": "stdin",
     "output_type": "stream",
     "text": [
      " 5\n"
     ]
    },
    {
     "name": "stdout",
     "output_type": "stream",
     "text": [
      "-  -  -  -  0  -  -  -  -  \n",
      "-  -  -  1  0  1  -  -  -  \n",
      "-  -  2  1  0  1  2  -  -  \n",
      "-  3  2  1  0  1  2  3  -  \n",
      "4  3  2  1  0  1  2  3  4  \n"
     ]
    }
   ],
   "source": [
    "'''\n",
    "\n",
    "                -  -  -  -  0  -  -  -  -  \n",
    "                -  -  -  1  0  1  -  -  -  \n",
    "                -  -  2  1  0  1  2  -  -  \n",
    "                -  3  2  1  0  1  2  3  -  \n",
    "                4  3  2  1  0  1  2  3  4  \n",
    "\n",
    "\n",
    "'''\n",
    "\n",
    "n = int(input())\n",
    "s = 1\n",
    "t  = 0\n",
    "\n",
    "for i in range(n):\n",
    "    \n",
    "    for j in range(n-i,1,-1):\n",
    "        print('-',end='  ')\n",
    "\n",
    "    for k in range(s):\n",
    "        print(s - k - 1,end='  ')\n",
    "    s = s + 1\n",
    "\n",
    "    for m in range(i):\n",
    "        print(m+1,end='  ') \n",
    "\n",
    "    for l in range(n-i,1,-1):\n",
    "        print('-',end='  ')\n",
    "\n",
    "    print()\n",
    "    "
   ]
  },
  {
   "cell_type": "code",
   "execution_count": 67,
   "id": "22363774-736d-4e70-95ce-a525ee102e43",
   "metadata": {},
   "outputs": [
    {
     "name": "stdin",
     "output_type": "stream",
     "text": [
      " 6\n"
     ]
    },
    {
     "name": "stdout",
     "output_type": "stream",
     "text": [
      "-  -  -  -  -  \n",
      "-  -  -  -  \n",
      "-  -  -  \n",
      "-  -  \n",
      "-  \n",
      "\n"
     ]
    }
   ],
   "source": [
    "\n",
    "''' \n",
    "\n",
    "        -  -  -  -  -  \n",
    "        -  -  -  -  \n",
    "        -  -  -  \n",
    "        -  -  \n",
    "        -  \n",
    "\n",
    "'''\n",
    "\n",
    "\n",
    "\n",
    "\n",
    "n = int(input())\n",
    "s = 1\n",
    "t  = 0\n",
    "\n",
    "for i in range(n):\n",
    "    \n",
    "    for j in range(n-i,1,-1):\n",
    "        print('-',end='  ')\n",
    "    print()"
   ]
  },
  {
   "cell_type": "code",
   "execution_count": 11,
   "id": "378ccf47-1f7d-4a60-bcbe-9a7ea13495ff",
   "metadata": {},
   "outputs": [
    {
     "name": "stdout",
     "output_type": "stream",
     "text": [
      "140721444498184\n"
     ]
    }
   ],
   "source": [
    "print(id('A'))"
   ]
  },
  {
   "cell_type": "code",
   "execution_count": 13,
   "id": "28162832-4359-46ef-9064-b2f9b15eb7f7",
   "metadata": {},
   "outputs": [
    {
     "data": {
      "text/plain": [
       "97"
      ]
     },
     "execution_count": 13,
     "metadata": {},
     "output_type": "execute_result"
    }
   ],
   "source": [
    "ord('a')"
   ]
  },
  {
   "cell_type": "code",
   "execution_count": 15,
   "id": "cdfd7b9d-6176-4610-85bf-eeb52d8e4c13",
   "metadata": {},
   "outputs": [
    {
     "data": {
      "text/plain": [
       "65"
      ]
     },
     "execution_count": 15,
     "metadata": {},
     "output_type": "execute_result"
    }
   ],
   "source": [
    "ord('A')"
   ]
  },
  {
   "cell_type": "code",
   "execution_count": 69,
   "id": "19d9d285-9979-4c3c-810b-797ec0aac8d9",
   "metadata": {},
   "outputs": [
    {
     "data": {
      "text/plain": [
       "'A'"
      ]
     },
     "execution_count": 69,
     "metadata": {},
     "output_type": "execute_result"
    }
   ],
   "source": [
    "chr(65)"
   ]
  },
  {
   "cell_type": "code",
   "execution_count": 23,
   "id": "ab689271-b3e2-4ce8-ba58-ae8327b98446",
   "metadata": {},
   "outputs": [
    {
     "name": "stdin",
     "output_type": "stream",
     "text": [
      " 5\n"
     ]
    },
    {
     "name": "stdout",
     "output_type": "stream",
     "text": [
      "-  -  -  -  A  -  -  -  -  \n",
      "-  -  -  A  B  A  -  -  -  \n",
      "-  -  A  B  C  B  A  -  -  \n",
      "-  A  B  C  D  C  B  A  -  \n",
      "A  B  C  D  E  D  C  B  A  \n"
     ]
    }
   ],
   "source": [
    "'''\n",
    "\n",
    "                    -  -  -  -  A  -  -  -  -  \n",
    "                    -  -  -  A  B  A  -  -  -  \n",
    "                    -  -  A  B  C  B  A  -  -  \n",
    "                    -  A  B  C  D  C  B  A  -  \n",
    "                    A  B  C  D  E  D  C  B  A\n",
    "\n",
    "'''\n",
    "\n",
    "n = int(input())\n",
    "s = 1\n",
    "temp = 65\n",
    "\n",
    "\n",
    "for i in range(n):\n",
    "    for j in range(n-i,1,-1):\n",
    "        print('-',end='  ')\n",
    "\n",
    "    for k in range(s):\n",
    "        print(chr(temp + k),end='  ')\n",
    "        \n",
    "    s = s + 1\n",
    "\n",
    "    for m in range(i):\n",
    "        #var  = var - 1\n",
    "        print(chr(temp + i - m - 1 ),end='  ') \n",
    "\n",
    "    for l in range(n-i,1,-1):\n",
    "        print('-',end='  ')\n",
    "\n",
    "    print()\n",
    "    "
   ]
  },
  {
   "cell_type": "code",
   "execution_count": 72,
   "id": "96354987-9682-4faa-85bc-d13fd6de1efa",
   "metadata": {},
   "outputs": [
    {
     "name": "stdin",
     "output_type": "stream",
     "text": [
      " 5\n"
     ]
    },
    {
     "name": "stdout",
     "output_type": "stream",
     "text": [
      "-  -  -  -  A  -  -  -  -  \n",
      "-  -  -  A  B  A  -  -  -  \n",
      "-  -  A  B  C  A  B  -  -  \n",
      "-  A  B  C  D  A  B  C  -  \n",
      "A  B  C  D  E  A  B  C  D  \n"
     ]
    }
   ],
   "source": [
    "'''\n",
    "\n",
    "            -  -  -  -  A  -  -  -  -  \n",
    "            -  -  -  A  B  A  -  -  -  \n",
    "            -  -  A  B  C  A  B  -  -  \n",
    "            -  A  B  C  D  A  B  C  -  \n",
    "            A  B  C  D  E  A  B  C  D  \n",
    "\n",
    "'''\n",
    "\n",
    "n = int(input())\n",
    "s = 1\n",
    "temp = 65\n",
    "\n",
    "\n",
    "for i in range(n):\n",
    "    for j in range(n-i,1,-1):\n",
    "        print('-',end='  ')\n",
    "\n",
    "    for k in range(s):\n",
    "        print(chr(temp + k),end='  ')\n",
    "        \n",
    "    s = s + 1\n",
    "\n",
    "    for m in range(i):\n",
    "        #var  = var - 1\n",
    "        print(chr(temp + m ),end='  ') \n",
    "\n",
    "    for l in range(n-i,1,-1):\n",
    "        print('-',end='  ')\n",
    "\n",
    "    print()\n",
    "    \n"
   ]
  },
  {
   "cell_type": "code",
   "execution_count": 31,
   "id": "6f80dd87-b9c0-4247-b47e-4a3a3b84e979",
   "metadata": {},
   "outputs": [
    {
     "name": "stdin",
     "output_type": "stream",
     "text": [
      " 26\n"
     ]
    },
    {
     "name": "stdout",
     "output_type": "stream",
     "text": [
      "-  -  -  -  -  -  -  -  -  -  -  -  -  -  -  -  -  -  -  -  -  -  -  -  -  A  -  -  -  -  -  -  -  -  -  -  -  -  -  -  -  -  -  -  -  -  -  -  -  -  -  \n",
      "-  -  -  -  -  -  -  -  -  -  -  -  -  -  -  -  -  -  -  -  -  -  -  -  A  B  A  -  -  -  -  -  -  -  -  -  -  -  -  -  -  -  -  -  -  -  -  -  -  -  -  \n",
      "-  -  -  -  -  -  -  -  -  -  -  -  -  -  -  -  -  -  -  -  -  -  -  A  B  C  B  A  -  -  -  -  -  -  -  -  -  -  -  -  -  -  -  -  -  -  -  -  -  -  -  \n",
      "-  -  -  -  -  -  -  -  -  -  -  -  -  -  -  -  -  -  -  -  -  -  A  B  C  D  C  B  A  -  -  -  -  -  -  -  -  -  -  -  -  -  -  -  -  -  -  -  -  -  -  \n",
      "-  -  -  -  -  -  -  -  -  -  -  -  -  -  -  -  -  -  -  -  -  A  B  C  D  E  D  C  B  A  -  -  -  -  -  -  -  -  -  -  -  -  -  -  -  -  -  -  -  -  -  \n",
      "-  -  -  -  -  -  -  -  -  -  -  -  -  -  -  -  -  -  -  -  A  B  C  D  E  F  E  D  C  B  A  -  -  -  -  -  -  -  -  -  -  -  -  -  -  -  -  -  -  -  -  \n",
      "-  -  -  -  -  -  -  -  -  -  -  -  -  -  -  -  -  -  -  A  B  C  D  E  F  G  F  E  D  C  B  A  -  -  -  -  -  -  -  -  -  -  -  -  -  -  -  -  -  -  -  \n",
      "-  -  -  -  -  -  -  -  -  -  -  -  -  -  -  -  -  -  A  B  C  D  E  F  G  H  G  F  E  D  C  B  A  -  -  -  -  -  -  -  -  -  -  -  -  -  -  -  -  -  -  \n",
      "-  -  -  -  -  -  -  -  -  -  -  -  -  -  -  -  -  A  B  C  D  E  F  G  H  I  H  G  F  E  D  C  B  A  -  -  -  -  -  -  -  -  -  -  -  -  -  -  -  -  -  \n",
      "-  -  -  -  -  -  -  -  -  -  -  -  -  -  -  -  A  B  C  D  E  F  G  H  I  J  I  H  G  F  E  D  C  B  A  -  -  -  -  -  -  -  -  -  -  -  -  -  -  -  -  \n",
      "-  -  -  -  -  -  -  -  -  -  -  -  -  -  -  A  B  C  D  E  F  G  H  I  J  K  J  I  H  G  F  E  D  C  B  A  -  -  -  -  -  -  -  -  -  -  -  -  -  -  -  \n",
      "-  -  -  -  -  -  -  -  -  -  -  -  -  -  A  B  C  D  E  F  G  H  I  J  K  L  K  J  I  H  G  F  E  D  C  B  A  -  -  -  -  -  -  -  -  -  -  -  -  -  -  \n",
      "-  -  -  -  -  -  -  -  -  -  -  -  -  A  B  C  D  E  F  G  H  I  J  K  L  M  L  K  J  I  H  G  F  E  D  C  B  A  -  -  -  -  -  -  -  -  -  -  -  -  -  \n",
      "-  -  -  -  -  -  -  -  -  -  -  -  A  B  C  D  E  F  G  H  I  J  K  L  M  N  M  L  K  J  I  H  G  F  E  D  C  B  A  -  -  -  -  -  -  -  -  -  -  -  -  \n",
      "-  -  -  -  -  -  -  -  -  -  -  A  B  C  D  E  F  G  H  I  J  K  L  M  N  O  N  M  L  K  J  I  H  G  F  E  D  C  B  A  -  -  -  -  -  -  -  -  -  -  -  \n",
      "-  -  -  -  -  -  -  -  -  -  A  B  C  D  E  F  G  H  I  J  K  L  M  N  O  P  O  N  M  L  K  J  I  H  G  F  E  D  C  B  A  -  -  -  -  -  -  -  -  -  -  \n",
      "-  -  -  -  -  -  -  -  -  A  B  C  D  E  F  G  H  I  J  K  L  M  N  O  P  Q  P  O  N  M  L  K  J  I  H  G  F  E  D  C  B  A  -  -  -  -  -  -  -  -  -  \n",
      "-  -  -  -  -  -  -  -  A  B  C  D  E  F  G  H  I  J  K  L  M  N  O  P  Q  R  Q  P  O  N  M  L  K  J  I  H  G  F  E  D  C  B  A  -  -  -  -  -  -  -  -  \n",
      "-  -  -  -  -  -  -  A  B  C  D  E  F  G  H  I  J  K  L  M  N  O  P  Q  R  S  R  Q  P  O  N  M  L  K  J  I  H  G  F  E  D  C  B  A  -  -  -  -  -  -  -  \n",
      "-  -  -  -  -  -  A  B  C  D  E  F  G  H  I  J  K  L  M  N  O  P  Q  R  S  T  S  R  Q  P  O  N  M  L  K  J  I  H  G  F  E  D  C  B  A  -  -  -  -  -  -  \n",
      "-  -  -  -  -  A  B  C  D  E  F  G  H  I  J  K  L  M  N  O  P  Q  R  S  T  U  T  S  R  Q  P  O  N  M  L  K  J  I  H  G  F  E  D  C  B  A  -  -  -  -  -  \n",
      "-  -  -  -  A  B  C  D  E  F  G  H  I  J  K  L  M  N  O  P  Q  R  S  T  U  V  U  T  S  R  Q  P  O  N  M  L  K  J  I  H  G  F  E  D  C  B  A  -  -  -  -  \n",
      "-  -  -  A  B  C  D  E  F  G  H  I  J  K  L  M  N  O  P  Q  R  S  T  U  V  W  V  U  T  S  R  Q  P  O  N  M  L  K  J  I  H  G  F  E  D  C  B  A  -  -  -  \n",
      "-  -  A  B  C  D  E  F  G  H  I  J  K  L  M  N  O  P  Q  R  S  T  U  V  W  X  W  V  U  T  S  R  Q  P  O  N  M  L  K  J  I  H  G  F  E  D  C  B  A  -  -  \n",
      "-  A  B  C  D  E  F  G  H  I  J  K  L  M  N  O  P  Q  R  S  T  U  V  W  X  Y  X  W  V  U  T  S  R  Q  P  O  N  M  L  K  J  I  H  G  F  E  D  C  B  A  -  \n",
      "A  B  C  D  E  F  G  H  I  J  K  L  M  N  O  P  Q  R  S  T  U  V  W  X  Y  Z  Y  X  W  V  U  T  S  R  Q  P  O  N  M  L  K  J  I  H  G  F  E  D  C  B  A  \n"
     ]
    }
   ],
   "source": [
    "'''\n",
    "\n",
    "---A---\n",
    "--ABA--\n",
    "-ABCBA-\n",
    "ABCDCBA\n",
    "\n",
    "'''\n",
    "\n",
    "n = int(input())\n",
    "s = 1\n",
    "temp = 65\n",
    "\n",
    "\n",
    "for i in range(n):\n",
    "    for j in range(n-i,1,-1):\n",
    "        print('-',end='  ')\n",
    "\n",
    "    for k in range(s):\n",
    "        print(chr(temp + k),end='  ')\n",
    "        \n",
    "    s = s + 1\n",
    "\n",
    "    for m in range(i):\n",
    "        #var  = var - 1\n",
    "        print(chr(temp + i - m - 1 ),end='  ') \n",
    "\n",
    "    for l in range(n-i,1,-1):\n",
    "        print('-',end='  ')\n",
    "\n",
    "    print()\n",
    "    "
   ]
  },
  {
   "cell_type": "code",
   "execution_count": 74,
   "id": "a57cd4e0-55d4-4d5d-9501-28800e2d63c0",
   "metadata": {},
   "outputs": [
    {
     "name": "stdin",
     "output_type": "stream",
     "text": [
      " 6\n"
     ]
    },
    {
     "name": "stdout",
     "output_type": "stream",
     "text": [
      "-  -  -  -  -  A  -  -  -  -  -  \n",
      "-  -  -  -  B  B  B  -  -  -  -  \n",
      "-  -  -  C  C  C  C  C  -  -  -  \n",
      "-  -  D  D  D  D  D  D  D  -  -  \n",
      "-  E  E  E  E  E  E  E  E  E  -  \n",
      "F  F  F  F  F  F  F  F  F  F  F  \n"
     ]
    }
   ],
   "source": [
    "'''\n",
    "\n",
    "\n",
    "                    \n",
    "                    -  -  -  -  -  A  -  -  -  -  -  \n",
    "                    -  -  -  -  B  B  B  -  -  -  -  \n",
    "                    -  -  -  C  C  C  C  C  -  -  -  \n",
    "                    -  -  D  D  D  D  D  D  D  -  -  \n",
    "                    -  E  E  E  E  E  E  E  E  E  -  \n",
    "                    F  F  F  F  F  F  F  F  F  F  F \n",
    "\n",
    "\n",
    "\n",
    "\n",
    "'''\n",
    "\n",
    "n = int(input())\n",
    "s = 1\n",
    "temp = 65\n",
    "\n",
    "\n",
    "for i in range(n):\n",
    "    for j in range(n-i,1,-1):\n",
    "        print('-',end='  ')\n",
    "\n",
    "    for k in range(s):\n",
    "        print(chr(temp + i),end='  ')\n",
    "        \n",
    "    s = s + 2\n",
    "\n",
    "    '''for m in range(i):\n",
    "        #var  = var - 1\n",
    "        print(chr(temp + i - m - 1 ),end='  ')\n",
    "\n",
    "        '''\n",
    "\n",
    "    for l in range(n-i,1,-1):\n",
    "        print('-',end='  ')\n",
    "\n",
    "    print()\n",
    "    "
   ]
  },
  {
   "cell_type": "code",
   "execution_count": 57,
   "id": "7cce6d46-fae6-4930-900f-d916cb9610ab",
   "metadata": {},
   "outputs": [
    {
     "name": "stdin",
     "output_type": "stream",
     "text": [
      " 6\n"
     ]
    },
    {
     "name": "stdout",
     "output_type": "stream",
     "text": [
      "- - - - - * - - - - -   \n",
      "- - - - * * * - - - -   \n",
      "- - - * * * * * - - -   \n",
      "- - * * * * * * * - -   \n",
      "- * * * * * * * * * -   \n",
      "* * * * * * * * * * *   \n",
      "- * * * * * * * * * - \n",
      "- - * * * * * * * - - \n",
      "- - - * * * * * - - - \n",
      "- - - - * * * - - - - \n",
      "- - - - - * - - - - - \n"
     ]
    }
   ],
   "source": [
    "'''\n",
    "\n",
    "                - - - - - * - - - - -   \n",
    "                - - - - * * * - - - -   \n",
    "                - - - * * * * * - - -   \n",
    "                - - * * * * * * * - -   \n",
    "                - * * * * * * * * * -   \n",
    "                * * * * * * * * * * *   \n",
    "                - * * * * * * * * * - \n",
    "                - - * * * * * * * - - \n",
    "                - - - * * * * * - - - \n",
    "                - - - - * * * - - - - \n",
    "                - - - - - * - - - - -  \n",
    "\n",
    "\n",
    "'''\n",
    "\n",
    "\n",
    "\n",
    "n = int(input())\n",
    "r = 1 \n",
    "s = 1\n",
    "t = 1 \n",
    "p = 2*n - 1 - 2\n",
    "\n",
    "for i in range(n):\n",
    "    #spaces loop\n",
    "    for j in range(n-i,1,-1):\n",
    "        print('-',end=' ')\n",
    "\n",
    "    #starts or numbers loop\n",
    "    for k in range(r):\n",
    "        print('*',end=' ')\n",
    "    r = r + 2  # r += 2\n",
    "\n",
    "    \n",
    "    # loop for 2nd time spaces\n",
    "    for l in range(n-i,1,-1):\n",
    "        print('-',end=' ')\n",
    "\n",
    "    print(' ',end= ' ')\n",
    "    \n",
    "    print()\n",
    "\n",
    "\n",
    "\n",
    "for i in range(n-1):\n",
    "\n",
    "    for j in range(t):\n",
    "        print('-',end=' ')\n",
    "\n",
    "    for k in range(p):\n",
    "        print('*',end=' ')\n",
    "\n",
    "    for l in range(t):\n",
    "        print('-',end=' ')\n",
    "\n",
    "    t += 1\n",
    "    p -= 2\n",
    "\n",
    "    print()\n"
   ]
  },
  {
   "cell_type": "code",
   "execution_count": 59,
   "id": "396b536c-88a7-4964-ab70-6ba2e6dd43be",
   "metadata": {},
   "outputs": [
    {
     "name": "stdin",
     "output_type": "stream",
     "text": [
      " 5\n"
     ]
    },
    {
     "name": "stdout",
     "output_type": "stream",
     "text": [
      "        *           \n",
      "      * * *         \n",
      "    * * * * *       \n",
      "  * * * * * * *     \n",
      "* * * * * * * * *   \n",
      "  * * * * * * *   \n",
      "    * * * * *     \n",
      "      * * *       \n",
      "        *         \n"
     ]
    }
   ],
   "source": [
    "'''\n",
    "\n",
    "                        *           \n",
    "                      * * *         \n",
    "                    * * * * *       \n",
    "                  * * * * * * *     \n",
    "                * * * * * * * * *   \n",
    "                  * * * * * * *   \n",
    "                    * * * * *     \n",
    "                      * * *       \n",
    "                        *       \n",
    "                \n",
    "\n",
    "'''\n",
    "\n",
    "\n",
    "\n",
    "n = int(input())\n",
    "r = 1 \n",
    "s = 1\n",
    "t = 1 \n",
    "p = 2*n - 1 - 2\n",
    "\n",
    "for i in range(n):\n",
    "    #spaces loop\n",
    "    for j in range(n-i,1,-1):\n",
    "        print(' ',end=' ')\n",
    "\n",
    "    #starts or numbers loop\n",
    "    for k in range(r):\n",
    "        print('*',end=' ')\n",
    "    r = r + 2  # r += 2\n",
    "\n",
    "    \n",
    "    # loop for 2nd time spaces\n",
    "    for l in range(n-i,1,-1):\n",
    "        print(' ',end=' ')\n",
    "\n",
    "    print(' ',end= ' ')\n",
    "    \n",
    "    print()\n",
    "\n",
    "\n",
    "\n",
    "for i in range(n-1):\n",
    "\n",
    "    for j in range(t):\n",
    "        print(' ',end=' ')\n",
    "\n",
    "    for k in range(p):\n",
    "        print('*',end=' ')\n",
    "\n",
    "    for l in range(t):\n",
    "        print(' ',end=' ')\n",
    "\n",
    "    t += 1\n",
    "    p -= 2\n",
    "\n",
    "    print()\n"
   ]
  },
  {
   "cell_type": "code",
   "execution_count": 78,
   "id": "d57ef00c-cf99-464d-b83a-1f6f1c203521",
   "metadata": {},
   "outputs": [
    {
     "name": "stdin",
     "output_type": "stream",
     "text": [
      " 5\n"
     ]
    },
    {
     "name": "stdout",
     "output_type": "stream",
     "text": [
      "- - - - * - - - -   - - - - * - - - - \n",
      "- - - * * * - - -   - - - * * * - - - \n",
      "- - * * * * * - -   - - * * * * * - - \n",
      "- * * * * * * * -   - * * * * * * * - \n",
      "* * * * * * * * *   * * * * * * * * * \n"
     ]
    }
   ],
   "source": [
    "'''\n",
    "\n",
    "\n",
    "            - - - - * - - - -   - - - - * - - - - \n",
    "            - - - * * * - - -   - - - * * * - - - \n",
    "            - - * * * * * - -   - - * * * * * - - \n",
    "            - * * * * * * * -   - * * * * * * * - \n",
    "            * * * * * * * * *   * * * * * * * * *\n",
    "\n",
    "\n",
    "'''\n",
    "\n",
    "\n",
    "\n",
    "\n",
    "n = int(input())\n",
    "r = 1 \n",
    "s = 1\n",
    "\n",
    "for i in range(n):\n",
    "    #spaces loop\n",
    "    for j in range(n-i,1,-1):\n",
    "        print('-',end=' ')\n",
    "\n",
    "    #starts or numbers loop\n",
    "    for k in range(r):\n",
    "        print('*',end=' ')\n",
    "    r = r + 2  # r += 2\n",
    "\n",
    "    \n",
    "    # loop for 2nd time spaces\n",
    "    for l in range(n-i,1,-1):\n",
    "        print('-',end=' ')\n",
    "\n",
    "    print(' ',end= ' ')\n",
    "\n",
    "    for j in range(n-i,1,-1):\n",
    "        print('-',end=' ')\n",
    "\n",
    "    #starts or numbers loop\n",
    "    for k in range(s):\n",
    "        print('*',end=' ')\n",
    "    s = s + 2  # r += 2\n",
    "\n",
    "\n",
    "    # loop for 2nd time spaces\n",
    "    for l in range(n-i,1,-1):\n",
    "        print('-',end=' ')\n",
    "\n",
    "    print()\n",
    "\n",
    "\n"
   ]
  },
  {
   "cell_type": "code",
   "execution_count": 76,
   "id": "f96822a8-13eb-45b8-86c0-7657b04f2a8d",
   "metadata": {},
   "outputs": [
    {
     "name": "stdin",
     "output_type": "stream",
     "text": [
      " 6\n"
     ]
    },
    {
     "name": "stdout",
     "output_type": "stream",
     "text": [
      "     *           *     \n",
      "    ***         ***    \n",
      "   *****       *****   \n",
      "  *******     *******  \n",
      " *********   ********* \n",
      "*********** ***********\n"
     ]
    }
   ],
   "source": [
    "'''\n",
    "\n",
    "                 *           *     \n",
    "                ***         ***    \n",
    "               *****       *****   \n",
    "              *******     *******  \n",
    "             *********   ********* \n",
    "            *********** ***********\n",
    "\n",
    "\n",
    "\n",
    "'''\n",
    "\n",
    "\n",
    "\n",
    "\n",
    "n = int(input())\n",
    "r = 1 \n",
    "s = 1\n",
    "\n",
    "for i in range(n):\n",
    "    #spaces loop\n",
    "    for j in range(n-i,1,-1):\n",
    "        print(' ',end='')\n",
    "\n",
    "    #starts or numbers loop\n",
    "    for k in range(r):\n",
    "        print('*',end='')\n",
    "    r = r + 2  # r += 2\n",
    "\n",
    "    \n",
    "    # loop for 2nd time spaces\n",
    "    for l in range(n-i,1,-1):\n",
    "        print(' ',end='')\n",
    "\n",
    "    print(' ',end= '')\n",
    "\n",
    "    for j in range(n-i,1,-1):\n",
    "        print(' ',end='')\n",
    "\n",
    "    #starts or numbers loop\n",
    "    for k in range(s):\n",
    "        print('*',end='')\n",
    "    s = s + 2  # r += 2\n",
    "\n",
    "\n",
    "    # loop for 2nd time spaces\n",
    "    for l in range(n-i,1,-1):\n",
    "        print(' ',end='')\n",
    "\n",
    "    print()\n",
    "\n",
    "\n"
   ]
  },
  {
   "cell_type": "code",
   "execution_count": 41,
   "id": "6c89d018-d114-4a8e-a9fc-472d4abb119c",
   "metadata": {},
   "outputs": [
    {
     "name": "stdin",
     "output_type": "stream",
     "text": [
      " 5\n"
     ]
    },
    {
     "name": "stdout",
     "output_type": "stream",
     "text": [
      "- - - - * - - - -   - - - - * - - - - \n",
      "- - - * * * - - -   - - - * * * - - - \n",
      "- - * * * * * - -   - - * * * * * - - \n",
      "- * * * * * * * -   - * * * * * * * - \n",
      "* * * * * * * * *   * * * * * * * * * \n",
      "- * * * * * * * -   - * * * * * * * - \n",
      "- - * * * * * - -   - - * * * * * - - \n",
      "- - - * * * - - -   - - - * * * - - - \n",
      "- - - - * - - - -   - - - - * - - - - \n"
     ]
    }
   ],
   "source": [
    "'''\n",
    "            - - - - * - - - -   - - - - * - - - - \n",
    "            - - - * * * - - -   - - - * * * - - - \n",
    "            - - * * * * * - -   - - * * * * * - - \n",
    "            - * * * * * * * -   - * * * * * * * - \n",
    "            * * * * * * * * *   * * * * * * * * * \n",
    "            - * * * * * * * -   - * * * * * * * - \n",
    "            - - * * * * * - -   - - * * * * * - - \n",
    "            - - - * * * - - -   - - - * * * - - - \n",
    "            - - - - * - - - -   - - - - * - - - - \n",
    "\n",
    "'''\n",
    "\n",
    "\n",
    "\n",
    "\n",
    "n = int(input())\n",
    "r = 1 \n",
    "s = 1\n",
    "t = 1 \n",
    "p = 2*n - 1 - 2\n",
    "\n",
    "for i in range(n):\n",
    "    #spaces loop\n",
    "    for j in range(n-i,1,-1):\n",
    "        print('-',end=' ')\n",
    "\n",
    "    #starts or numbers loop\n",
    "    for k in range(r):\n",
    "        print('*',end=' ')\n",
    "    r = r + 2  # r += 2\n",
    "\n",
    "    \n",
    "    # loop for 2nd time spaces\n",
    "    for l in range(n-i,1,-1):\n",
    "        print('-',end=' ')\n",
    "\n",
    "    print(' ',end= ' ')\n",
    "\n",
    "    \n",
    "    for j in range(n-i,1,-1):\n",
    "        print('-',end=' ')\n",
    "\n",
    "    #starts or numbers loop\n",
    "    for k in range(s):\n",
    "        print('*',end=' ')\n",
    "    s = s + 2  # r += 2\n",
    "\n",
    "\n",
    "    # loop for 2nd time spaces\n",
    "    for l in range(n-i,1,-1):\n",
    "        print('-',end=' ')\n",
    "\n",
    "    print()\n",
    "\n",
    "\n",
    "\n",
    "for i in range(n - 1):\n",
    "    for j in range(t):\n",
    "        print('-',end=' ')\n",
    "    #t = t + 1\n",
    "\n",
    "    for k in range(p):\n",
    "        print('*',end=' ')\n",
    "    #p = p - 2 \n",
    "\n",
    "    for l in range(t):\n",
    "        print('-',end=' ')\n",
    "        \n",
    "\n",
    "    print(' ', end=' ')\n",
    "\n",
    "    for j in range(t):\n",
    "        print('-',end=' ')\n",
    "    #t = t + 1\n",
    "\n",
    "    for k in range(p):\n",
    "        print('*',end=' ')\n",
    "    #p = p - 2 \n",
    "\n",
    "    for l in range(t):\n",
    "        print('-',end=' ')\n",
    "\n",
    "    t += 1\n",
    "    p -= 2\n",
    "\n",
    "    \n",
    "    print()\n",
    "    "
   ]
  },
  {
   "cell_type": "code",
   "execution_count": 63,
   "id": "218a84af-a6f5-407b-ac2c-1c5efb7e7a65",
   "metadata": {},
   "outputs": [
    {
     "name": "stdin",
     "output_type": "stream",
     "text": [
      " 6\n"
     ]
    },
    {
     "name": "stdout",
     "output_type": "stream",
     "text": [
      "          *                       *           \n",
      "        * * *                   * * *         \n",
      "      * * * * *               * * * * *       \n",
      "    * * * * * * *           * * * * * * *     \n",
      "  * * * * * * * * *       * * * * * * * * *   \n",
      "* * * * * * * * * * *   * * * * * * * * * * * \n",
      "  * * * * * * * * *       * * * * * * * * *   \n",
      "    * * * * * * *           * * * * * * *     \n",
      "      * * * * *               * * * * *       \n",
      "        * * *                   * * *         \n",
      "          *                       *           \n"
     ]
    }
   ],
   "source": [
    "'''\n",
    "                      *                       *           \n",
    "                    * * *                   * * *         \n",
    "                  * * * * *               * * * * *       \n",
    "                * * * * * * *           * * * * * * *     \n",
    "              * * * * * * * * *       * * * * * * * * *   \n",
    "            * * * * * * * * * * *   * * * * * * * * * * * \n",
    "              * * * * * * * * *       * * * * * * * * *   \n",
    "                * * * * * * *           * * * * * * *     \n",
    "                  * * * * *               * * * * *       \n",
    "                    * * *                   * * *         \n",
    "                      *                       *     \n",
    "\n",
    "'''\n",
    "\n",
    "\n",
    "\n",
    "\n",
    "n = int(input())\n",
    "r = 1 \n",
    "s = 1\n",
    "t = 1 \n",
    "p = 2*n - 1 - 2\n",
    "\n",
    "for i in range(n):\n",
    "    #spaces loop\n",
    "    for j in range(n-i,1,-1):\n",
    "        print(' ',end=' ')\n",
    "\n",
    "    #starts or numbers loop\n",
    "    for k in range(r):\n",
    "        print('*',end=' ')\n",
    "    r = r + 2  # r += 2\n",
    "\n",
    "    \n",
    "    # loop for 2nd time spaces\n",
    "    for l in range(n-i,1,-1):\n",
    "        print(' ',end=' ')\n",
    "\n",
    "    print(' ',end= ' ')\n",
    "\n",
    "    \n",
    "    for j in range(n-i,1,-1):\n",
    "        print(' ',end=' ')\n",
    "\n",
    "    #starts or numbers loop\n",
    "    for k in range(s):\n",
    "        print('*',end=' ')\n",
    "    s = s + 2  # r += 2\n",
    "\n",
    "\n",
    "    # loop for 2nd time spaces\n",
    "    for l in range(n-i,1,-1):\n",
    "        print(' ',end=' ')\n",
    "\n",
    "    print()\n",
    "\n",
    "\n",
    "\n",
    "for i in range(n - 1):\n",
    "    for j in range(t):\n",
    "        print(' ',end=' ')\n",
    "    #t = t + 1\n",
    "\n",
    "    for k in range(p):\n",
    "        print('*',end=' ')\n",
    "    #p = p - 2 \n",
    "\n",
    "    for l in range(t):\n",
    "        print(' ',end=' ')\n",
    "        \n",
    "\n",
    "    print(' ', end=' ')\n",
    "\n",
    "    for j in range(t):\n",
    "        print(' ',end=' ')\n",
    "    #t = t + 1\n",
    "\n",
    "    for k in range(p):\n",
    "        print('*',end=' ')\n",
    "    #p = p - 2 \n",
    "\n",
    "    for l in range(t):\n",
    "        print(' ',end=' ')\n",
    "\n",
    "    t += 1\n",
    "    p -= 2\n",
    "\n",
    "    \n",
    "    print()\n",
    "    "
   ]
  },
  {
   "cell_type": "code",
   "execution_count": 111,
   "id": "d258099d-1392-429a-b0f2-b81ba37a5861",
   "metadata": {},
   "outputs": [
    {
     "name": "stdout",
     "output_type": "stream",
     "text": [
      "1    2    3    4    5    6    7    8    9    10    \n",
      "11    12    13    14    15    16    17    18    19    20    \n",
      "21    22    23    24    25    26    27    28    29    30    \n",
      "31    32    33    34    35    36    37    38    39    40    \n",
      "41    42    43    44    45    46    47    48    49    50    \n",
      "51    52    53    54    55    56    57    58    59    60    \n",
      "61    62    63    64    65    66    67    68    69    70    \n",
      "71    72    73    74    75    76    77    78    79    80    \n",
      "81    82    83    84    85    86    87    88    89    90    \n",
      "91    92    93    94    95    96    97    98    99    100    \n"
     ]
    }
   ],
   "source": [
    "k = 1\n",
    "for i in range(10):\n",
    "    for j in range(10):\n",
    "        print(k,end=\"    \")\n",
    "        k += 1\n",
    "\n",
    "    print()"
   ]
  },
  {
   "cell_type": "code",
   "execution_count": null,
   "id": "58798f47-ab0e-4c1d-a653-d001529cd562",
   "metadata": {},
   "outputs": [],
   "source": []
  },
  {
   "cell_type": "code",
   "execution_count": 131,
   "id": "35cbd97b-c3d1-4517-848d-01918aab58c8",
   "metadata": {},
   "outputs": [
    {
     "name": "stdout",
     "output_type": "stream",
     "text": [
      "A    B    C    D    E    \n",
      "F    G    H    I    J    \n",
      "K    L    M    N    O    \n",
      "P    Q    R    S    T    \n",
      "U    V    W    X    Y    \n",
      "Z    \n"
     ]
    }
   ],
   "source": [
    "k = 65\n",
    "for i in range(6):\n",
    "    for j in range(5):\n",
    "        print(chr(k),end=\"    \")\n",
    "        k += 1\n",
    "        if k > 90:\n",
    "            break\n",
    "\n",
    "    print()"
   ]
  },
  {
   "cell_type": "code",
   "execution_count": null,
   "id": "301db314-4765-4481-8916-f0a835cf16d6",
   "metadata": {},
   "outputs": [],
   "source": []
  }
 ],
 "metadata": {
  "kernelspec": {
   "display_name": "Python 3 (ipykernel)",
   "language": "python",
   "name": "python3"
  },
  "language_info": {
   "codemirror_mode": {
    "name": "ipython",
    "version": 3
   },
   "file_extension": ".py",
   "mimetype": "text/x-python",
   "name": "python",
   "nbconvert_exporter": "python",
   "pygments_lexer": "ipython3",
   "version": "3.12.4"
  }
 },
 "nbformat": 4,
 "nbformat_minor": 5
}
